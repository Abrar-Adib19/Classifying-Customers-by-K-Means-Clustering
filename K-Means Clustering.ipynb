{
  "nbformat": 4,
  "nbformat_minor": 0,
  "metadata": {
    "colab": {
      "provenance": []
    },
    "kernelspec": {
      "name": "python3",
      "display_name": "Python 3"
    },
    "language_info": {
      "name": "python"
    }
  },
  "cells": [
    {
      "cell_type": "code",
      "execution_count": 12,
      "metadata": {
        "id": "Kx87xVWx1hSu"
      },
      "outputs": [],
      "source": [
        "import numpy as np\n",
        "import pandas as pd\n",
        "import matplotlib.pyplot as plt"
      ]
    },
    {
      "cell_type": "code",
      "source": [
        "dataset = pd.read_csv('Customers.csv')\n",
        "x = dataset.iloc[:, [3,4]].values   # ekhane amra shudhu last er duita col rakhtesi for simplicity's sake"
      ],
      "metadata": {
        "id": "LCD1695k6Rhu"
      },
      "execution_count": null,
      "outputs": []
    },
    {
      "cell_type": "code",
      "source": [
        "# first run the K-means alg. with several number of clusters (1,2,3,.....) by using for loop\n",
        "\n",
        "from sklearn.cluster import KMeans\n",
        "wcss = []\n",
        "for i in range (1,11):\n",
        "    kmeans = KMeans(n_clusters = i, init = 'k-means++', random_state = 0)   # init command random initialization avoid korar jonno use kora hoy\n",
        "    kmeans.fit(x)\n",
        "    wcss.append (kmeans.inertia_)   # inertia_  attribute ta automatically wcss calc kore insert kore dibe\n",
        "\n",
        "plt.plot(range (1,11), wcss)\n",
        "plt.title ('Elbow Method')\n",
        "plt.xlabel ('Number of clusters')\n",
        "plt.ylabel ('wcss')"
      ],
      "metadata": {
        "id": "TyK32vlT-a_b"
      },
      "execution_count": null,
      "outputs": []
    },
    {
      "cell_type": "code",
      "source": [
        "kmeans = KMeans(n_clusters = 2, init = 'k-means++', random_state = 0)\n",
        "y_kmeans = kmeans.fit_predict(x)   # It will train the dataset to identify 2 clusters and create the dependent variable y_means"
      ],
      "metadata": {
        "id": "2raZjnrS-cpp"
      },
      "execution_count": null,
      "outputs": []
    },
    {
      "cell_type": "code",
      "source": [
        "print(y_kmeans)   # kon customer kon cluster e belong kore oita show kortese"
      ],
      "metadata": {
        "id": "-jCJCqJj-2B4"
      },
      "execution_count": null,
      "outputs": []
    },
    {
      "cell_type": "code",
      "source": [
        "plt.scatter (x[y_kmeans == 0, 0], x[y_kmeans == 0, 1], s = 100, c = 'red', label = 'Cluster 0')\n",
        "plt.scatter (x[y_kmeans == 1, 0], x[y_kmeans == 1, 1], s = 100, c = 'blue', label = 'Cluster 1')\n",
        "\n",
        "# Now we need to plot the centroids of these clusters by using an attribute called \"cluster_centers_\"\n",
        "\n",
        "plt.scatter (kmeans.cluster_centers_[:, 0], kmeans.cluster_centers_[:, 1], s = 300, c = 'cyan', label = 'Centroids')\n",
        "plt.title ('Customers by Clusters')\n",
        "plt.xlabel ('Income')\n",
        "plt.ylabel ('Spending Score')\n",
        "plt.legend()"
      ],
      "metadata": {
        "id": "Ks2AYKzw-6Rp"
      },
      "execution_count": null,
      "outputs": []
    },
    {
      "cell_type": "code",
      "source": [],
      "metadata": {
        "id": "wHOjlKW4-9-n"
      },
      "execution_count": null,
      "outputs": []
    }
  ]
}